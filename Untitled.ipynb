{
 "cells": [
  {
   "cell_type": "code",
   "execution_count": 49,
   "metadata": {},
   "outputs": [],
   "source": [
    "def call_func(func, *args, **kwargs):\n",
    "    \n",
    "    print(\"My function is {}\".format(func))\n",
    "    print(\"It has a name, {}\".format(func.__name__))\n",
    "    print(\"\\nAnd a docstring, \\n{}\\n\".format(func.__doc__))\n",
    "    \n",
    "    retval = func(*args, **kwargs)\n",
    "    \n",
    "    return retval"
   ]
  },
  {
   "cell_type": "code",
   "execution_count": 50,
   "metadata": {},
   "outputs": [],
   "source": [
    "def my_function(a, b, d=3.0):\n",
    "    '''This is the docstring for my_function!'''\n",
    "    # This is an internal variable\n",
    "    c = 5.0\n",
    "    \n",
    "    return (a + b + c) / d"
   ]
  },
  {
   "cell_type": "code",
   "execution_count": 51,
   "metadata": {},
   "outputs": [
    {
     "name": "stdout",
     "output_type": "stream",
     "text": [
      "My function is <function my_function at 0x1486c66c10d0>\n",
      "It has a name, my_function\n",
      "\n",
      "And a docstring, \n",
      "This is the docstring for my_function!\n",
      "\n"
     ]
    },
    {
     "data": {
      "text/plain": [
       "0.8888888888888888"
      ]
     },
     "execution_count": 51,
     "metadata": {},
     "output_type": "execute_result"
    }
   ],
   "source": [
    "args = (1.0, 2.0)\n",
    "kwargs = {'d': 9.0}\n",
    "\n",
    "call_func(my_function, *args, **kwargs)"
   ]
  },
  {
   "cell_type": "code",
   "execution_count": 52,
   "metadata": {},
   "outputs": [
    {
     "name": "stdout",
     "output_type": "stream",
     "text": [
      "['__annotations__',\n",
      " '__call__',\n",
      " '__class__',\n",
      " '__closure__',\n",
      " '__code__',\n",
      " '__defaults__',\n",
      " '__delattr__',\n",
      " '__dict__',\n",
      " '__dir__',\n",
      " '__doc__',\n",
      " '__eq__',\n",
      " '__format__',\n",
      " '__ge__',\n",
      " '__get__',\n",
      " '__getattribute__',\n",
      " '__globals__',\n",
      " '__gt__',\n",
      " '__hash__',\n",
      " '__init__',\n",
      " '__kwdefaults__',\n",
      " '__le__',\n",
      " '__lt__',\n",
      " '__module__',\n",
      " '__name__',\n",
      " '__ne__',\n",
      " '__new__',\n",
      " '__qualname__',\n",
      " '__reduce__',\n",
      " '__reduce_ex__',\n",
      " '__repr__',\n",
      " '__setattr__',\n",
      " '__sizeof__',\n",
      " '__str__',\n",
      " '__subclasshook__']\n"
     ]
    }
   ],
   "source": [
    "from pprint import pprint\n",
    "pprint(dir(my_function))"
   ]
  }
 ],
 "metadata": {
  "kernelspec": {
   "display_name": "Python 3",
   "language": "python",
   "name": "python3"
  },
  "language_info": {
   "codemirror_mode": {
    "name": "ipython",
    "version": 3
   },
   "file_extension": ".py",
   "mimetype": "text/x-python",
   "name": "python",
   "nbconvert_exporter": "python",
   "pygments_lexer": "ipython3",
   "version": "3.5.3"
  }
 },
 "nbformat": 4,
 "nbformat_minor": 2
}
